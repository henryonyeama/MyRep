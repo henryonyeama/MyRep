{
 "cells": [
  {
   "cell_type": "code",
   "execution_count": 1,
   "id": "41e2d5bf",
   "metadata": {},
   "outputs": [],
   "source": [
    "#import packages\n",
    "import pandas as pd\n",
    "import seaborn as sns\n",
    "import matplotlib.pyplot as plt\n",
    "from pandas import set_option\n"
   ]
  },
  {
   "cell_type": "code",
   "execution_count": 2,
   "id": "0e45ee6a",
   "metadata": {},
   "outputs": [],
   "source": [
    "data = 'C:\\\\Users\\\\HP\\\\Documents\\\\WORKSPACE\\\\Pharm Data2.xlsx'"
   ]
  },
  {
   "cell_type": "code",
   "execution_count": 3,
   "id": "46c7de01",
   "metadata": {},
   "outputs": [],
   "source": [
    "df= pd.read_excel(data)"
   ]
  },
  {
   "cell_type": "code",
   "execution_count": 4,
   "id": "16ed9496",
   "metadata": {
    "scrolled": true
   },
   "outputs": [
    {
     "data": {
      "text/html": [
       "<div>\n",
       "<style scoped>\n",
       "    .dataframe tbody tr th:only-of-type {\n",
       "        vertical-align: middle;\n",
       "    }\n",
       "\n",
       "    .dataframe tbody tr th {\n",
       "        vertical-align: top;\n",
       "    }\n",
       "\n",
       "    .dataframe thead th {\n",
       "        text-align: right;\n",
       "    }\n",
       "</style>\n",
       "<table border=\"1\" class=\"dataframe\">\n",
       "  <thead>\n",
       "    <tr style=\"text-align: right;\">\n",
       "      <th></th>\n",
       "      <th>Distributor</th>\n",
       "      <th>Customer Name</th>\n",
       "      <th>City</th>\n",
       "      <th>Country</th>\n",
       "      <th>Latitude</th>\n",
       "      <th>Longitude</th>\n",
       "      <th>Channel</th>\n",
       "      <th>Sub-channel</th>\n",
       "      <th>Product Name</th>\n",
       "      <th>Product Class</th>\n",
       "      <th>Quantity</th>\n",
       "      <th>Price</th>\n",
       "      <th>Sales</th>\n",
       "      <th>Month</th>\n",
       "      <th>Year</th>\n",
       "      <th>Name of Sales Rep</th>\n",
       "      <th>Manager</th>\n",
       "      <th>Sales Team</th>\n",
       "    </tr>\n",
       "  </thead>\n",
       "  <tbody>\n",
       "    <tr>\n",
       "      <th>0</th>\n",
       "      <td>Gottlieb-Cruickshank</td>\n",
       "      <td>Zieme, Doyle and Kunze</td>\n",
       "      <td>Lublin</td>\n",
       "      <td>Poland</td>\n",
       "      <td>51.2333</td>\n",
       "      <td>22.5667</td>\n",
       "      <td>Hospital</td>\n",
       "      <td>Private</td>\n",
       "      <td>Topipizole</td>\n",
       "      <td>Mood Stabilizers</td>\n",
       "      <td>4.0</td>\n",
       "      <td>368</td>\n",
       "      <td>1472.0</td>\n",
       "      <td>January</td>\n",
       "      <td>2018</td>\n",
       "      <td>Mary Gerrard</td>\n",
       "      <td>Britanny Bold</td>\n",
       "      <td>Delta</td>\n",
       "    </tr>\n",
       "    <tr>\n",
       "      <th>1</th>\n",
       "      <td>Gottlieb-Cruickshank</td>\n",
       "      <td>Feest PLC</td>\n",
       "      <td>Świecie</td>\n",
       "      <td>Poland</td>\n",
       "      <td>53.4167</td>\n",
       "      <td>18.4333</td>\n",
       "      <td>Pharmacy</td>\n",
       "      <td>Retail</td>\n",
       "      <td>Choriotrisin</td>\n",
       "      <td>Antibiotics</td>\n",
       "      <td>7.0</td>\n",
       "      <td>591</td>\n",
       "      <td>4137.0</td>\n",
       "      <td>January</td>\n",
       "      <td>2018</td>\n",
       "      <td>Jessica Smith</td>\n",
       "      <td>Britanny Bold</td>\n",
       "      <td>Delta</td>\n",
       "    </tr>\n",
       "    <tr>\n",
       "      <th>2</th>\n",
       "      <td>Gottlieb-Cruickshank</td>\n",
       "      <td>Medhurst-Beer Pharmaceutical Limited</td>\n",
       "      <td>Rybnik</td>\n",
       "      <td>Poland</td>\n",
       "      <td>50.0833</td>\n",
       "      <td>18.5000</td>\n",
       "      <td>Pharmacy</td>\n",
       "      <td>Institution</td>\n",
       "      <td>Acantaine</td>\n",
       "      <td>Antibiotics</td>\n",
       "      <td>30.0</td>\n",
       "      <td>66</td>\n",
       "      <td>1980.0</td>\n",
       "      <td>January</td>\n",
       "      <td>2018</td>\n",
       "      <td>Steve Pepple</td>\n",
       "      <td>Tracy Banks</td>\n",
       "      <td>Bravo</td>\n",
       "    </tr>\n",
       "    <tr>\n",
       "      <th>3</th>\n",
       "      <td>Gottlieb-Cruickshank</td>\n",
       "      <td>Barton Ltd Pharma Plc</td>\n",
       "      <td>Czeladź</td>\n",
       "      <td>Poland</td>\n",
       "      <td>50.3333</td>\n",
       "      <td>19.0833</td>\n",
       "      <td>Hospital</td>\n",
       "      <td>Private</td>\n",
       "      <td>Lioletine Refliruvax</td>\n",
       "      <td>Analgesics</td>\n",
       "      <td>6.0</td>\n",
       "      <td>435</td>\n",
       "      <td>2610.0</td>\n",
       "      <td>January</td>\n",
       "      <td>2018</td>\n",
       "      <td>Mary Gerrard</td>\n",
       "      <td>Britanny Bold</td>\n",
       "      <td>Delta</td>\n",
       "    </tr>\n",
       "    <tr>\n",
       "      <th>4</th>\n",
       "      <td>Gottlieb-Cruickshank</td>\n",
       "      <td>Keeling LLC Pharmacy</td>\n",
       "      <td>Olsztyn</td>\n",
       "      <td>Poland</td>\n",
       "      <td>53.7800</td>\n",
       "      <td>20.4942</td>\n",
       "      <td>Pharmacy</td>\n",
       "      <td>Retail</td>\n",
       "      <td>Oxymotroban Fexoformin</td>\n",
       "      <td>Analgesics</td>\n",
       "      <td>20.0</td>\n",
       "      <td>458</td>\n",
       "      <td>9160.0</td>\n",
       "      <td>January</td>\n",
       "      <td>2018</td>\n",
       "      <td>Anne Wu</td>\n",
       "      <td>Britanny Bold</td>\n",
       "      <td>Delta</td>\n",
       "    </tr>\n",
       "  </tbody>\n",
       "</table>\n",
       "</div>"
      ],
      "text/plain": [
       "              Distributor                         Customer Name     City  \\\n",
       "0  Gottlieb-Cruickshank                 Zieme, Doyle and Kunze    Lublin   \n",
       "1  Gottlieb-Cruickshank                              Feest PLC   Świecie   \n",
       "2  Gottlieb-Cruickshank    Medhurst-Beer Pharmaceutical Limited   Rybnik   \n",
       "3  Gottlieb-Cruickshank                   Barton Ltd Pharma Plc  Czeladź   \n",
       "4  Gottlieb-Cruickshank                    Keeling LLC Pharmacy  Olsztyn   \n",
       "\n",
       "  Country  Latitude  Longitude   Channel  Sub-channel            Product Name  \\\n",
       "0  Poland   51.2333    22.5667  Hospital      Private              Topipizole   \n",
       "1  Poland   53.4167    18.4333  Pharmacy       Retail            Choriotrisin   \n",
       "2  Poland   50.0833    18.5000  Pharmacy  Institution               Acantaine   \n",
       "3  Poland   50.3333    19.0833  Hospital      Private    Lioletine Refliruvax   \n",
       "4  Poland   53.7800    20.4942  Pharmacy       Retail  Oxymotroban Fexoformin   \n",
       "\n",
       "      Product Class  Quantity  Price   Sales    Month  Year Name of Sales Rep  \\\n",
       "0  Mood Stabilizers       4.0    368  1472.0  January  2018      Mary Gerrard   \n",
       "1       Antibiotics       7.0    591  4137.0  January  2018     Jessica Smith   \n",
       "2       Antibiotics      30.0     66  1980.0  January  2018      Steve Pepple   \n",
       "3        Analgesics       6.0    435  2610.0  January  2018      Mary Gerrard   \n",
       "4        Analgesics      20.0    458  9160.0  January  2018           Anne Wu   \n",
       "\n",
       "         Manager Sales Team  \n",
       "0  Britanny Bold      Delta  \n",
       "1  Britanny Bold      Delta  \n",
       "2    Tracy Banks      Bravo  \n",
       "3  Britanny Bold      Delta  \n",
       "4  Britanny Bold      Delta  "
      ]
     },
     "execution_count": 4,
     "metadata": {},
     "output_type": "execute_result"
    }
   ],
   "source": [
    "df.head()"
   ]
  },
  {
   "cell_type": "code",
   "execution_count": 5,
   "id": "9efcffc4",
   "metadata": {},
   "outputs": [
    {
     "name": "stdout",
     "output_type": "stream",
     "text": [
      "<class 'pandas.core.frame.DataFrame'>\n",
      "RangeIndex: 254082 entries, 0 to 254081\n",
      "Data columns (total 18 columns):\n",
      " #   Column             Non-Null Count   Dtype  \n",
      "---  ------             --------------   -----  \n",
      " 0   Distributor        254082 non-null  object \n",
      " 1   Customer Name      254082 non-null  object \n",
      " 2   City               254082 non-null  object \n",
      " 3   Country            254082 non-null  object \n",
      " 4   Latitude           254082 non-null  float64\n",
      " 5   Longitude          254082 non-null  float64\n",
      " 6   Channel            254082 non-null  object \n",
      " 7   Sub-channel        254082 non-null  object \n",
      " 8   Product Name       254082 non-null  object \n",
      " 9   Product Class      254082 non-null  object \n",
      " 10  Quantity           254082 non-null  float64\n",
      " 11  Price              254082 non-null  int64  \n",
      " 12  Sales              254082 non-null  float64\n",
      " 13  Month              254082 non-null  object \n",
      " 14  Year               254082 non-null  int64  \n",
      " 15  Name of Sales Rep  254082 non-null  object \n",
      " 16  Manager            254082 non-null  object \n",
      " 17  Sales Team         254082 non-null  object \n",
      "dtypes: float64(4), int64(2), object(12)\n",
      "memory usage: 34.9+ MB\n"
     ]
    }
   ],
   "source": [
    "df.info()"
   ]
  },
  {
   "cell_type": "code",
   "execution_count": 6,
   "id": "549dfe59",
   "metadata": {},
   "outputs": [
    {
     "data": {
      "text/plain": [
       "Distributor          0\n",
       "Customer Name        0\n",
       "City                 0\n",
       "Country              0\n",
       "Latitude             0\n",
       "Longitude            0\n",
       "Channel              0\n",
       "Sub-channel          0\n",
       "Product Name         0\n",
       "Product Class        0\n",
       "Quantity             0\n",
       "Price                0\n",
       "Sales                0\n",
       "Month                0\n",
       "Year                 0\n",
       "Name of Sales Rep    0\n",
       "Manager              0\n",
       "Sales Team           0\n",
       "dtype: int64"
      ]
     },
     "execution_count": 6,
     "metadata": {},
     "output_type": "execute_result"
    }
   ],
   "source": [
    "#checking for missing values\n",
    "df.isnull().sum()\n"
   ]
  },
  {
   "cell_type": "code",
   "execution_count": 7,
   "id": "3ab51d76",
   "metadata": {},
   "outputs": [
    {
     "data": {
      "image/png": "[encoded data removed]",
      "text/plain": [
       "<Figure size 432x288 with 1 Axes>"
      ]
     },
     "metadata": {
      "needs_background": "light"
     },
     "output_type": "display_data"
    }
   ],
   "source": [
    "#plt.title(\" Correlation between Bill payment and Loan payment for July\", fontsize = 20)\n",
    "sns.regplot(x=\"Sales\", y=\"Price\", data=df);"
   ]
  },
  {
   "cell_type": "markdown",
   "id": "5db47dd2",
   "metadata": {},
   "source": [
    "There is a postive linear relationship between Price and Sales\n",
    "at a lower price the higher the sales "
   ]
  },
  {
   "cell_type": "code",
   "execution_count": 8,
   "id": "dbceea99",
   "metadata": {},
   "outputs": [
    {
     "data": {
      "text/plain": [
       "<AxesSubplot:>"
      ]
     },
     "execution_count": 8,
     "metadata": {},
     "output_type": "execute_result"
    },
    {
     "data": {
      "image/png": "[encoded data removed]",
      "text/plain": [
       "<Figure size 1152x360 with 2 Axes>"
      ]
     },
     "metadata": {
      "needs_background": "light"
     },
     "output_type": "display_data"
    }
   ],
   "source": [
    "#checking the correlation between the numeric features\n",
    "set_option ('display.width', 1000)\n",
    "plt.figure(figsize = (16,5))\n",
    "sns.heatmap(df.corr(), annot = True) \n"
   ]
  },
  {
   "cell_type": "markdown",
   "id": "4a6db1d2",
   "metadata": {},
   "source": [
    "There is a strong correlation between quatity and sales "
   ]
  },
  {
   "cell_type": "code",
   "execution_count": 9,
   "id": "45026936",
   "metadata": {},
   "outputs": [
    {
     "data": {
      "image/png": "[encoded data removed]",
      "text/plain": [
       "<Figure size 432x288 with 1 Axes>"
      ]
     },
     "metadata": {
      "needs_background": "light"
     },
     "output_type": "display_data"
    }
   ],
   "source": [
    "sns.regplot(x=\"Sales\", y=\"Quantity\", data=df);"
   ]
  },
  {
   "cell_type": "markdown",
   "id": "f6c71330",
   "metadata": {},
   "source": [
    "We can see that there is a positive linear relationship between Quantity and Sales\n",
    "the higher the qunatity sold the higher the sales that is being made."
   ]
  },
  {
   "cell_type": "code",
   "execution_count": 10,
   "id": "ac645f39",
   "metadata": {},
   "outputs": [
    {
     "data": {
      "text/html": [
       "<div>\n",
       "<style scoped>\n",
       "    .dataframe tbody tr th:only-of-type {\n",
       "        vertical-align: middle;\n",
       "    }\n",
       "\n",
       "    .dataframe tbody tr th {\n",
       "        vertical-align: top;\n",
       "    }\n",
       "\n",
       "    .dataframe thead th {\n",
       "        text-align: right;\n",
       "    }\n",
       "</style>\n",
       "<table border=\"1\" class=\"dataframe\">\n",
       "  <thead>\n",
       "    <tr style=\"text-align: right;\">\n",
       "      <th></th>\n",
       "      <th>Latitude</th>\n",
       "      <th>Longitude</th>\n",
       "      <th>Quantity</th>\n",
       "      <th>Price</th>\n",
       "      <th>Sales</th>\n",
       "      <th>Year</th>\n",
       "    </tr>\n",
       "  </thead>\n",
       "  <tbody>\n",
       "    <tr>\n",
       "      <th>count</th>\n",
       "      <td>254082.000000</td>\n",
       "      <td>254082.000000</td>\n",
       "      <td>254082.000000</td>\n",
       "      <td>254082.000000</td>\n",
       "      <td>2.540820e+05</td>\n",
       "      <td>254082.000000</td>\n",
       "    </tr>\n",
       "    <tr>\n",
       "      <th>mean</th>\n",
       "      <td>50.962222</td>\n",
       "      <td>10.803212</td>\n",
       "      <td>112.872139</td>\n",
       "      <td>412.207720</td>\n",
       "      <td>4.643772e+04</td>\n",
       "      <td>2018.385187</td>\n",
       "    </tr>\n",
       "    <tr>\n",
       "      <th>std</th>\n",
       "      <td>1.625526</td>\n",
       "      <td>4.143311</td>\n",
       "      <td>744.310385</td>\n",
       "      <td>224.963687</td>\n",
       "      <td>3.491918e+05</td>\n",
       "      <td>1.041352</td>\n",
       "    </tr>\n",
       "    <tr>\n",
       "      <th>min</th>\n",
       "      <td>47.514200</td>\n",
       "      <td>6.083800</td>\n",
       "      <td>-7200.000000</td>\n",
       "      <td>22.000000</td>\n",
       "      <td>-4.161600e+06</td>\n",
       "      <td>2017.000000</td>\n",
       "    </tr>\n",
       "    <tr>\n",
       "      <th>25%</th>\n",
       "      <td>49.805600</td>\n",
       "      <td>7.891100</td>\n",
       "      <td>5.000000</td>\n",
       "      <td>195.000000</td>\n",
       "      <td>1.704000e+03</td>\n",
       "      <td>2018.000000</td>\n",
       "    </tr>\n",
       "    <tr>\n",
       "      <th>50%</th>\n",
       "      <td>51.133300</td>\n",
       "      <td>9.397800</td>\n",
       "      <td>20.000000</td>\n",
       "      <td>430.000000</td>\n",
       "      <td>5.850000e+03</td>\n",
       "      <td>2018.000000</td>\n",
       "    </tr>\n",
       "    <tr>\n",
       "      <th>75%</th>\n",
       "      <td>52.083300</td>\n",
       "      <td>12.133300</td>\n",
       "      <td>50.000000</td>\n",
       "      <td>605.000000</td>\n",
       "      <td>2.156525e+04</td>\n",
       "      <td>2019.000000</td>\n",
       "    </tr>\n",
       "    <tr>\n",
       "      <th>max</th>\n",
       "      <td>54.781900</td>\n",
       "      <td>23.566700</td>\n",
       "      <td>117600.000000</td>\n",
       "      <td>794.000000</td>\n",
       "      <td>7.420560e+07</td>\n",
       "      <td>2020.000000</td>\n",
       "    </tr>\n",
       "  </tbody>\n",
       "</table>\n",
       "</div>"
      ],
      "text/plain": [
       "            Latitude      Longitude       Quantity          Price         Sales           Year\n",
       "count  254082.000000  254082.000000  254082.000000  254082.000000  2.540820e+05  254082.000000\n",
       "mean       50.962222      10.803212     112.872139     412.207720  4.643772e+04    2018.385187\n",
       "std         1.625526       4.143311     744.310385     224.963687  3.491918e+05       1.041352\n",
       "min        47.514200       6.083800   -7200.000000      22.000000 -4.161600e+06    2017.000000\n",
       "25%        49.805600       7.891100       5.000000     195.000000  1.704000e+03    2018.000000\n",
       "50%        51.133300       9.397800      20.000000     430.000000  5.850000e+03    2018.000000\n",
       "75%        52.083300      12.133300      50.000000     605.000000  2.156525e+04    2019.000000\n",
       "max        54.781900      23.566700  117600.000000     794.000000  7.420560e+07    2020.000000"
      ]
     },
     "execution_count": 10,
     "metadata": {},
     "output_type": "execute_result"
    }
   ],
   "source": [
    "#descriptive analysis of the data\n",
    "df.describe()"
   ]
  },
  {
   "cell_type": "code",
   "execution_count": 11,
   "id": "294631d4",
   "metadata": {},
   "outputs": [
    {
     "data": {
      "text/plain": [
       "array(['Gottlieb-Cruickshank  ', 'Carter-Conn  ', 'Prohaska-Kuhic ',\n",
       "       'Smith Inc ', 'Rohan   ', 'Schuppe Inc ', 'Cassin  ',\n",
       "       'Graham and Sons ', 'Stehr-Champlin  ', 'Kris LLC  ',\n",
       "       'Rogahn-Klein ', 'Lindgren-Simonis Pharm', 'Beier  ',\n",
       "       'Gerlach LLC ', 'Erdman  ', 'Koss   ', 'Schaefer LLC ',\n",
       "       'Crist Inc ', 'Rohan and Sons  ', 'Lockman  ', 'Kozey-Emmerich ',\n",
       "       'Gleason   ', 'Romaguera-Fay  ', 'Daugherty-Rempel  ',\n",
       "       'Welch-Langworth ', 'Bashirian-Kassulke  ', 'Nader-Gaylord  ',\n",
       "       'Hansen Group Pharm', 'Lesch   '], dtype=object)"
      ]
     },
     "execution_count": 11,
     "metadata": {},
     "output_type": "execute_result"
    }
   ],
   "source": [
    "#checking for unique disributors \n",
    "df['Distributor'].unique()"
   ]
  },
  {
   "cell_type": "code",
   "execution_count": 12,
   "id": "24c52a8a",
   "metadata": {},
   "outputs": [
    {
     "data": {
      "text/plain": [
       "Gerlach LLC               111364\n",
       "Koss                       58360\n",
       "Erdman                     26238\n",
       "Stehr-Champlin             11942\n",
       "Smith Inc                   6802\n",
       "Gottlieb-Cruickshank        6427\n",
       "Prohaska-Kuhic              6109\n",
       "Kozey-Emmerich              4305\n",
       "Beier                       3311\n",
       "Welch-Langworth             3125\n",
       "Cassin                      3007\n",
       "Daugherty-Rempel            1960\n",
       "Rohan and Sons              1575\n",
       "Romaguera-Fay               1356\n",
       "Rohan                       1185\n",
       "Crist Inc                   1157\n",
       "Lockman                     1013\n",
       "Lesch                        974\n",
       "Gleason                      779\n",
       "Lindgren-Simonis Pharm       759\n",
       "Schaefer LLC                 572\n",
       "Nader-Gaylord                324\n",
       "Hansen Group Pharm           318\n",
       "Schuppe Inc                  269\n",
       "Rogahn-Klein                 227\n",
       "Graham and Sons              213\n",
       "Carter-Conn                  181\n",
       "Bashirian-Kassulke           178\n",
       "Kris LLC                      52\n",
       "Name: Distributor, dtype: int64"
      ]
     },
     "execution_count": 12,
     "metadata": {},
     "output_type": "execute_result"
    }
   ],
   "source": [
    "#count of major distributros\n",
    "(df['Distributor'].value_counts())"
   ]
  },
  {
   "cell_type": "code",
   "execution_count": 13,
   "id": "dff0a514",
   "metadata": {},
   "outputs": [
    {
     "data": {
      "image/png": "[encoded data removed]",
      "text/plain": [
       "<Figure size 720x360 with 1 Axes>"
      ]
     },
     "metadata": {},
     "output_type": "display_data"
    }
   ],
   "source": [
    "#visual representaion of major distiributors\n",
    "plt.style.use('seaborn')\n",
    "sns.set(style=\"darkgrid\")\n",
    "plt.figure(figsize = (10, 5))\n",
    "plt.title('Top Twenty Pharm Distributors', fontsize = 15)\n",
    "df['Distributor'].value_counts()[:20].plot(kind='barh', color='red')\n",
    "plt.show()"
   ]
  },
  {
   "cell_type": "markdown",
   "id": "9d17a981",
   "metadata": {},
   "source": [
    "From the above analysis we can see that Gerlach LLC of all the distributor had the highest occurrence with a count of 111,364.\n",
    "we can then say for a fact that Gerlach LLC was a major dististributor amongts others."
   ]
  },
  {
   "cell_type": "code",
   "execution_count": 48,
   "id": "f700652d",
   "metadata": {},
   "outputs": [],
   "source": [
    "#checkiong the distributor with the highest amount of sales\n",
    "dist_sales =df.groupby('Distributor')[['Sales']].sum().sort_values(by=['Sales'],ascending=False)[:10];\n"
   ]
  },
  {
   "cell_type": "code",
   "execution_count": 49,
   "id": "8227558a",
   "metadata": {},
   "outputs": [
    {
     "data": {
      "text/html": [
       "<div>\n",
       "<style scoped>\n",
       "    .dataframe tbody tr th:only-of-type {\n",
       "        vertical-align: middle;\n",
       "    }\n",
       "\n",
       "    .dataframe tbody tr th {\n",
       "        vertical-align: top;\n",
       "    }\n",
       "\n",
       "    .dataframe thead th {\n",
       "        text-align: right;\n",
       "    }\n",
       "</style>\n",
       "<table border=\"1\" class=\"dataframe\">\n",
       "  <thead>\n",
       "    <tr style=\"text-align: right;\">\n",
       "      <th></th>\n",
       "      <th>Sales</th>\n",
       "    </tr>\n",
       "    <tr>\n",
       "      <th>Distributor</th>\n",
       "      <th></th>\n",
       "    </tr>\n",
       "  </thead>\n",
       "  <tbody>\n",
       "    <tr>\n",
       "      <th>Gerlach LLC</th>\n",
       "      <td>3.501834e+09</td>\n",
       "    </tr>\n",
       "    <tr>\n",
       "      <th>Koss</th>\n",
       "      <td>3.087827e+09</td>\n",
       "    </tr>\n",
       "    <tr>\n",
       "      <th>Erdman</th>\n",
       "      <td>1.522610e+09</td>\n",
       "    </tr>\n",
       "    <tr>\n",
       "      <th>Kozey-Emmerich</th>\n",
       "      <td>1.232932e+09</td>\n",
       "    </tr>\n",
       "    <tr>\n",
       "      <th>Romaguera-Fay</th>\n",
       "      <td>4.449925e+08</td>\n",
       "    </tr>\n",
       "    <tr>\n",
       "      <th>Bashirian-Kassulke</th>\n",
       "      <td>3.493407e+08</td>\n",
       "    </tr>\n",
       "    <tr>\n",
       "      <th>Welch-Langworth</th>\n",
       "      <td>2.606324e+08</td>\n",
       "    </tr>\n",
       "    <tr>\n",
       "      <th>Daugherty-Rempel</th>\n",
       "      <td>2.321302e+08</td>\n",
       "    </tr>\n",
       "    <tr>\n",
       "      <th>Beier</th>\n",
       "      <td>1.508344e+08</td>\n",
       "    </tr>\n",
       "    <tr>\n",
       "      <th>Rohan and Sons</th>\n",
       "      <td>1.425120e+08</td>\n",
       "    </tr>\n",
       "  </tbody>\n",
       "</table>\n",
       "</div>"
      ],
      "text/plain": [
       "                             Sales\n",
       "Distributor                       \n",
       "Gerlach LLC           3.501834e+09\n",
       "Koss                  3.087827e+09\n",
       "Erdman                1.522610e+09\n",
       "Kozey-Emmerich        1.232932e+09\n",
       "Romaguera-Fay         4.449925e+08\n",
       "Bashirian-Kassulke    3.493407e+08\n",
       "Welch-Langworth       2.606324e+08\n",
       "Daugherty-Rempel      2.321302e+08\n",
       "Beier                 1.508344e+08\n",
       "Rohan and Sons        1.425120e+08"
      ]
     },
     "execution_count": 49,
     "metadata": {},
     "output_type": "execute_result"
    }
   ],
   "source": [
    "dist_sales"
   ]
  },
  {
   "cell_type": "code",
   "execution_count": 51,
   "id": "fee1d6b7",
   "metadata": {},
   "outputs": [
    {
     "data": {
      "image/png": "[encoded data removed]",
      "text/plain": [
       "<Figure size 576x396 with 1 Axes>"
      ]
     },
     "metadata": {},
     "output_type": "display_data"
    }
   ],
   "source": [
    "#plot showing the analysis of sales by distributor\n",
    "plt.plot(df.groupby('Distributor')[['Sales']].sum().sort_values(by=['Sales'],ascending=False)[:5]);\n"
   ]
  },
  {
   "cell_type": "markdown",
   "id": "fcea5311",
   "metadata": {},
   "source": [
    "From the above table we can see that Gerlach LLC had the highest number of sales with a total number of 3.5 billion."
   ]
  },
  {
   "cell_type": "code",
   "execution_count": 18,
   "id": "323d65a1",
   "metadata": {},
   "outputs": [
    {
     "data": {
      "text/html": [
       "<div>\n",
       "<style scoped>\n",
       "    .dataframe tbody tr th:only-of-type {\n",
       "        vertical-align: middle;\n",
       "    }\n",
       "\n",
       "    .dataframe tbody tr th {\n",
       "        vertical-align: top;\n",
       "    }\n",
       "\n",
       "    .dataframe thead th {\n",
       "        text-align: right;\n",
       "    }\n",
       "</style>\n",
       "<table border=\"1\" class=\"dataframe\">\n",
       "  <thead>\n",
       "    <tr style=\"text-align: right;\">\n",
       "      <th></th>\n",
       "      <th>Distributor</th>\n",
       "      <th>Month</th>\n",
       "      <th>Sales</th>\n",
       "    </tr>\n",
       "  </thead>\n",
       "  <tbody>\n",
       "    <tr>\n",
       "      <th>79</th>\n",
       "      <td>Gerlach LLC</td>\n",
       "      <td>July</td>\n",
       "      <td>3.622057e+08</td>\n",
       "    </tr>\n",
       "    <tr>\n",
       "      <th>83</th>\n",
       "      <td>Gerlach LLC</td>\n",
       "      <td>November</td>\n",
       "      <td>3.580536e+08</td>\n",
       "    </tr>\n",
       "    <tr>\n",
       "      <th>80</th>\n",
       "      <td>Gerlach LLC</td>\n",
       "      <td>June</td>\n",
       "      <td>3.570305e+08</td>\n",
       "    </tr>\n",
       "    <tr>\n",
       "      <th>122</th>\n",
       "      <td>Koss</td>\n",
       "      <td>June</td>\n",
       "      <td>3.055939e+08</td>\n",
       "    </tr>\n",
       "    <tr>\n",
       "      <th>123</th>\n",
       "      <td>Koss</td>\n",
       "      <td>March</td>\n",
       "      <td>3.028968e+08</td>\n",
       "    </tr>\n",
       "    <tr>\n",
       "      <th>81</th>\n",
       "      <td>Gerlach LLC</td>\n",
       "      <td>March</td>\n",
       "      <td>3.007010e+08</td>\n",
       "    </tr>\n",
       "    <tr>\n",
       "      <th>117</th>\n",
       "      <td>Koss</td>\n",
       "      <td>August</td>\n",
       "      <td>3.001932e+08</td>\n",
       "    </tr>\n",
       "    <tr>\n",
       "      <th>118</th>\n",
       "      <td>Koss</td>\n",
       "      <td>December</td>\n",
       "      <td>2.932541e+08</td>\n",
       "    </tr>\n",
       "    <tr>\n",
       "      <th>82</th>\n",
       "      <td>Gerlach LLC</td>\n",
       "      <td>May</td>\n",
       "      <td>2.927934e+08</td>\n",
       "    </tr>\n",
       "    <tr>\n",
       "      <th>125</th>\n",
       "      <td>Koss</td>\n",
       "      <td>November</td>\n",
       "      <td>2.894637e+08</td>\n",
       "    </tr>\n",
       "    <tr>\n",
       "      <th>84</th>\n",
       "      <td>Gerlach LLC</td>\n",
       "      <td>October</td>\n",
       "      <td>2.874368e+08</td>\n",
       "    </tr>\n",
       "    <tr>\n",
       "      <th>85</th>\n",
       "      <td>Gerlach LLC</td>\n",
       "      <td>September</td>\n",
       "      <td>2.847042e+08</td>\n",
       "    </tr>\n",
       "    <tr>\n",
       "      <th>74</th>\n",
       "      <td>Gerlach LLC</td>\n",
       "      <td>April</td>\n",
       "      <td>2.745771e+08</td>\n",
       "    </tr>\n",
       "    <tr>\n",
       "      <th>127</th>\n",
       "      <td>Koss</td>\n",
       "      <td>September</td>\n",
       "      <td>2.656886e+08</td>\n",
       "    </tr>\n",
       "    <tr>\n",
       "      <th>1</th>\n",
       "      <td>Bashirian-Kassulke</td>\n",
       "      <td>August</td>\n",
       "      <td>2.595039e+08</td>\n",
       "    </tr>\n",
       "    <tr>\n",
       "      <th>121</th>\n",
       "      <td>Koss</td>\n",
       "      <td>July</td>\n",
       "      <td>2.563525e+08</td>\n",
       "    </tr>\n",
       "    <tr>\n",
       "      <th>126</th>\n",
       "      <td>Koss</td>\n",
       "      <td>October</td>\n",
       "      <td>2.516082e+08</td>\n",
       "    </tr>\n",
       "    <tr>\n",
       "      <th>77</th>\n",
       "      <td>Gerlach LLC</td>\n",
       "      <td>February</td>\n",
       "      <td>2.507439e+08</td>\n",
       "    </tr>\n",
       "    <tr>\n",
       "      <th>78</th>\n",
       "      <td>Gerlach LLC</td>\n",
       "      <td>January</td>\n",
       "      <td>2.504595e+08</td>\n",
       "    </tr>\n",
       "    <tr>\n",
       "      <th>75</th>\n",
       "      <td>Gerlach LLC</td>\n",
       "      <td>August</td>\n",
       "      <td>2.502074e+08</td>\n",
       "    </tr>\n",
       "    <tr>\n",
       "      <th>119</th>\n",
       "      <td>Koss</td>\n",
       "      <td>February</td>\n",
       "      <td>2.353290e+08</td>\n",
       "    </tr>\n",
       "    <tr>\n",
       "      <th>76</th>\n",
       "      <td>Gerlach LLC</td>\n",
       "      <td>December</td>\n",
       "      <td>2.329213e+08</td>\n",
       "    </tr>\n",
       "    <tr>\n",
       "      <th>124</th>\n",
       "      <td>Koss</td>\n",
       "      <td>May</td>\n",
       "      <td>2.324940e+08</td>\n",
       "    </tr>\n",
       "    <tr>\n",
       "      <th>116</th>\n",
       "      <td>Koss</td>\n",
       "      <td>April</td>\n",
       "      <td>2.101942e+08</td>\n",
       "    </tr>\n",
       "    <tr>\n",
       "      <th>73</th>\n",
       "      <td>Erdman</td>\n",
       "      <td>September</td>\n",
       "      <td>1.726316e+08</td>\n",
       "    </tr>\n",
       "    <tr>\n",
       "      <th>135</th>\n",
       "      <td>Kozey-Emmerich</td>\n",
       "      <td>March</td>\n",
       "      <td>1.617111e+08</td>\n",
       "    </tr>\n",
       "    <tr>\n",
       "      <th>64</th>\n",
       "      <td>Erdman</td>\n",
       "      <td>December</td>\n",
       "      <td>1.557550e+08</td>\n",
       "    </tr>\n",
       "    <tr>\n",
       "      <th>68</th>\n",
       "      <td>Erdman</td>\n",
       "      <td>June</td>\n",
       "      <td>1.540488e+08</td>\n",
       "    </tr>\n",
       "    <tr>\n",
       "      <th>120</th>\n",
       "      <td>Koss</td>\n",
       "      <td>January</td>\n",
       "      <td>1.447594e+08</td>\n",
       "    </tr>\n",
       "    <tr>\n",
       "      <th>137</th>\n",
       "      <td>Kozey-Emmerich</td>\n",
       "      <td>November</td>\n",
       "      <td>1.415153e+08</td>\n",
       "    </tr>\n",
       "    <tr>\n",
       "      <th>138</th>\n",
       "      <td>Kozey-Emmerich</td>\n",
       "      <td>October</td>\n",
       "      <td>1.402210e+08</td>\n",
       "    </tr>\n",
       "    <tr>\n",
       "      <th>71</th>\n",
       "      <td>Erdman</td>\n",
       "      <td>November</td>\n",
       "      <td>1.372861e+08</td>\n",
       "    </tr>\n",
       "    <tr>\n",
       "      <th>67</th>\n",
       "      <td>Erdman</td>\n",
       "      <td>July</td>\n",
       "      <td>1.342499e+08</td>\n",
       "    </tr>\n",
       "    <tr>\n",
       "      <th>72</th>\n",
       "      <td>Erdman</td>\n",
       "      <td>October</td>\n",
       "      <td>1.278108e+08</td>\n",
       "    </tr>\n",
       "    <tr>\n",
       "      <th>65</th>\n",
       "      <td>Erdman</td>\n",
       "      <td>February</td>\n",
       "      <td>1.265052e+08</td>\n",
       "    </tr>\n",
       "    <tr>\n",
       "      <th>69</th>\n",
       "      <td>Erdman</td>\n",
       "      <td>March</td>\n",
       "      <td>1.254089e+08</td>\n",
       "    </tr>\n",
       "    <tr>\n",
       "      <th>129</th>\n",
       "      <td>Kozey-Emmerich</td>\n",
       "      <td>August</td>\n",
       "      <td>1.174838e+08</td>\n",
       "    </tr>\n",
       "    <tr>\n",
       "      <th>133</th>\n",
       "      <td>Kozey-Emmerich</td>\n",
       "      <td>July</td>\n",
       "      <td>1.167387e+08</td>\n",
       "    </tr>\n",
       "    <tr>\n",
       "      <th>130</th>\n",
       "      <td>Kozey-Emmerich</td>\n",
       "      <td>December</td>\n",
       "      <td>1.145090e+08</td>\n",
       "    </tr>\n",
       "    <tr>\n",
       "      <th>62</th>\n",
       "      <td>Erdman</td>\n",
       "      <td>April</td>\n",
       "      <td>1.113199e+08</td>\n",
       "    </tr>\n",
       "    <tr>\n",
       "      <th>70</th>\n",
       "      <td>Erdman</td>\n",
       "      <td>May</td>\n",
       "      <td>1.068488e+08</td>\n",
       "    </tr>\n",
       "    <tr>\n",
       "      <th>63</th>\n",
       "      <td>Erdman</td>\n",
       "      <td>August</td>\n",
       "      <td>9.821901e+07</td>\n",
       "    </tr>\n",
       "    <tr>\n",
       "      <th>139</th>\n",
       "      <td>Kozey-Emmerich</td>\n",
       "      <td>September</td>\n",
       "      <td>9.491943e+07</td>\n",
       "    </tr>\n",
       "    <tr>\n",
       "      <th>131</th>\n",
       "      <td>Kozey-Emmerich</td>\n",
       "      <td>February</td>\n",
       "      <td>9.057764e+07</td>\n",
       "    </tr>\n",
       "    <tr>\n",
       "      <th>128</th>\n",
       "      <td>Kozey-Emmerich</td>\n",
       "      <td>April</td>\n",
       "      <td>8.762715e+07</td>\n",
       "    </tr>\n",
       "    <tr>\n",
       "      <th>136</th>\n",
       "      <td>Kozey-Emmerich</td>\n",
       "      <td>May</td>\n",
       "      <td>8.432686e+07</td>\n",
       "    </tr>\n",
       "    <tr>\n",
       "      <th>224</th>\n",
       "      <td>Romaguera-Fay</td>\n",
       "      <td>March</td>\n",
       "      <td>7.332049e+07</td>\n",
       "    </tr>\n",
       "    <tr>\n",
       "      <th>66</th>\n",
       "      <td>Erdman</td>\n",
       "      <td>January</td>\n",
       "      <td>7.252580e+07</td>\n",
       "    </tr>\n",
       "    <tr>\n",
       "      <th>221</th>\n",
       "      <td>Romaguera-Fay</td>\n",
       "      <td>January</td>\n",
       "      <td>7.234593e+07</td>\n",
       "    </tr>\n",
       "    <tr>\n",
       "      <th>220</th>\n",
       "      <td>Romaguera-Fay</td>\n",
       "      <td>February</td>\n",
       "      <td>5.701198e+07</td>\n",
       "    </tr>\n",
       "  </tbody>\n",
       "</table>\n",
       "</div>"
      ],
      "text/plain": [
       "              Distributor      Month         Sales\n",
       "79           Gerlach LLC        July  3.622057e+08\n",
       "83           Gerlach LLC    November  3.580536e+08\n",
       "80           Gerlach LLC        June  3.570305e+08\n",
       "122               Koss          June  3.055939e+08\n",
       "123               Koss         March  3.028968e+08\n",
       "81           Gerlach LLC       March  3.007010e+08\n",
       "117               Koss        August  3.001932e+08\n",
       "118               Koss      December  2.932541e+08\n",
       "82           Gerlach LLC         May  2.927934e+08\n",
       "125               Koss      November  2.894637e+08\n",
       "84           Gerlach LLC     October  2.874368e+08\n",
       "85           Gerlach LLC   September  2.847042e+08\n",
       "74           Gerlach LLC       April  2.745771e+08\n",
       "127               Koss     September  2.656886e+08\n",
       "1    Bashirian-Kassulke       August  2.595039e+08\n",
       "121               Koss          July  2.563525e+08\n",
       "126               Koss       October  2.516082e+08\n",
       "77           Gerlach LLC    February  2.507439e+08\n",
       "78           Gerlach LLC     January  2.504595e+08\n",
       "75           Gerlach LLC      August  2.502074e+08\n",
       "119               Koss      February  2.353290e+08\n",
       "76           Gerlach LLC    December  2.329213e+08\n",
       "124               Koss           May  2.324940e+08\n",
       "116               Koss         April  2.101942e+08\n",
       "73               Erdman    September  1.726316e+08\n",
       "135       Kozey-Emmerich       March  1.617111e+08\n",
       "64               Erdman     December  1.557550e+08\n",
       "68               Erdman         June  1.540488e+08\n",
       "120               Koss       January  1.447594e+08\n",
       "137       Kozey-Emmerich    November  1.415153e+08\n",
       "138       Kozey-Emmerich     October  1.402210e+08\n",
       "71               Erdman     November  1.372861e+08\n",
       "67               Erdman         July  1.342499e+08\n",
       "72               Erdman      October  1.278108e+08\n",
       "65               Erdman     February  1.265052e+08\n",
       "69               Erdman        March  1.254089e+08\n",
       "129       Kozey-Emmerich      August  1.174838e+08\n",
       "133       Kozey-Emmerich        July  1.167387e+08\n",
       "130       Kozey-Emmerich    December  1.145090e+08\n",
       "62               Erdman        April  1.113199e+08\n",
       "70               Erdman          May  1.068488e+08\n",
       "63               Erdman       August  9.821901e+07\n",
       "139       Kozey-Emmerich   September  9.491943e+07\n",
       "131       Kozey-Emmerich    February  9.057764e+07\n",
       "128       Kozey-Emmerich       April  8.762715e+07\n",
       "136       Kozey-Emmerich         May  8.432686e+07\n",
       "224       Romaguera-Fay        March  7.332049e+07\n",
       "66               Erdman      January  7.252580e+07\n",
       "221       Romaguera-Fay      January  7.234593e+07\n",
       "220       Romaguera-Fay     February  5.701198e+07"
      ]
     },
     "execution_count": 18,
     "metadata": {},
     "output_type": "execute_result"
    }
   ],
   "source": [
    "df.groupby(['Distributor','Month']).agg({'Sales':'sum'}).reset_index().sort_values(by=['Sales'],ascending=False).head(50)"
   ]
  },
  {
   "cell_type": "code",
   "execution_count": 21,
   "id": "60947460",
   "metadata": {},
   "outputs": [],
   "source": [
    "#analysis of products based on slaes\n",
    "product_sales = df.groupby('Product Name')[['Sales']].sum().sort_values(by=['Sales'],ascending=False)\n"
   ]
  },
  {
   "cell_type": "code",
   "execution_count": 22,
   "id": "1e2105e9",
   "metadata": {},
   "outputs": [
    {
     "data": {
      "text/html": [
       "<div>\n",
       "<style scoped>\n",
       "    .dataframe tbody tr th:only-of-type {\n",
       "        vertical-align: middle;\n",
       "    }\n",
       "\n",
       "    .dataframe tbody tr th {\n",
       "        vertical-align: top;\n",
       "    }\n",
       "\n",
       "    .dataframe thead th {\n",
       "        text-align: right;\n",
       "    }\n",
       "</style>\n",
       "<table border=\"1\" class=\"dataframe\">\n",
       "  <thead>\n",
       "    <tr style=\"text-align: right;\">\n",
       "      <th></th>\n",
       "      <th>Sales</th>\n",
       "    </tr>\n",
       "    <tr>\n",
       "      <th>Product Name</th>\n",
       "      <th></th>\n",
       "    </tr>\n",
       "  </thead>\n",
       "  <tbody>\n",
       "    <tr>\n",
       "      <th>Ionclotide</th>\n",
       "      <td>169083391.0</td>\n",
       "    </tr>\n",
       "    <tr>\n",
       "      <th>Tetratanyl</th>\n",
       "      <td>126091294.0</td>\n",
       "    </tr>\n",
       "    <tr>\n",
       "      <th>Sumanazole</th>\n",
       "      <td>113861431.0</td>\n",
       "    </tr>\n",
       "    <tr>\n",
       "      <th>Betanem</th>\n",
       "      <td>107073473.0</td>\n",
       "    </tr>\n",
       "    <tr>\n",
       "      <th>Docstryl Rivacin</th>\n",
       "      <td>103811886.0</td>\n",
       "    </tr>\n",
       "    <tr>\n",
       "      <th>Travoloride</th>\n",
       "      <td>101167660.0</td>\n",
       "    </tr>\n",
       "    <tr>\n",
       "      <th>Propratecan</th>\n",
       "      <td>100878712.0</td>\n",
       "    </tr>\n",
       "    <tr>\n",
       "      <th>Ketastadil</th>\n",
       "      <td>97313783.0</td>\n",
       "    </tr>\n",
       "    <tr>\n",
       "      <th>Nevanide Actozide</th>\n",
       "      <td>96643552.0</td>\n",
       "    </tr>\n",
       "    <tr>\n",
       "      <th>Cephozumab Synmethate</th>\n",
       "      <td>95320320.0</td>\n",
       "    </tr>\n",
       "  </tbody>\n",
       "</table>\n",
       "</div>"
      ],
      "text/plain": [
       "                             Sales\n",
       "Product Name                      \n",
       "Ionclotide             169083391.0\n",
       "Tetratanyl             126091294.0\n",
       "Sumanazole             113861431.0\n",
       "Betanem                107073473.0\n",
       "Docstryl Rivacin       103811886.0\n",
       "Travoloride            101167660.0\n",
       "Propratecan            100878712.0\n",
       "Ketastadil              97313783.0\n",
       "Nevanide Actozide       96643552.0\n",
       "Cephozumab Synmethate   95320320.0"
      ]
     },
     "execution_count": 22,
     "metadata": {},
     "output_type": "execute_result"
    }
   ],
   "source": [
    "product_sales.head(10)"
   ]
  },
  {
   "cell_type": "markdown",
   "id": "057d628a",
   "metadata": {},
   "source": [
    "Ionciotide was the product with the most sales with a total sale of 169,083,391."
   ]
  },
  {
   "cell_type": "code",
   "execution_count": 55,
   "id": "9c46dd4f",
   "metadata": {},
   "outputs": [
    {
     "data": {
      "image/png": "[encoded data removed]",
      "text/plain": [
       "<Figure size 576x396 with 1 Axes>"
      ]
     },
     "metadata": {},
     "output_type": "display_data"
    }
   ],
   "source": [
    "#visul analysis to show the product with the most sale.\n",
    "plt.plot(df.groupby('Product Name')[['Sales']].sum().sort_values(by=['Sales'],ascending=False).head());\n",
    "plt.show()"
   ]
  },
  {
   "cell_type": "code",
   "execution_count": 23,
   "id": "2b250bb3",
   "metadata": {},
   "outputs": [],
   "source": [
    "#product by quantiy\n",
    "product_quant = df.groupby('Product Name')[['Quantity']].sum().sort_values(by=['Quantity'],ascending= False)\n"
   ]
  },
  {
   "cell_type": "code",
   "execution_count": 24,
   "id": "65cef7a9",
   "metadata": {},
   "outputs": [
    {
     "data": {
      "text/html": [
       "<div>\n",
       "<style scoped>\n",
       "    .dataframe tbody tr th:only-of-type {\n",
       "        vertical-align: middle;\n",
       "    }\n",
       "\n",
       "    .dataframe tbody tr th {\n",
       "        vertical-align: top;\n",
       "    }\n",
       "\n",
       "    .dataframe thead th {\n",
       "        text-align: right;\n",
       "    }\n",
       "</style>\n",
       "<table border=\"1\" class=\"dataframe\">\n",
       "  <thead>\n",
       "    <tr style=\"text-align: right;\">\n",
       "      <th></th>\n",
       "      <th>Quantity</th>\n",
       "    </tr>\n",
       "    <tr>\n",
       "      <th>Product Name</th>\n",
       "      <th></th>\n",
       "    </tr>\n",
       "  </thead>\n",
       "  <tbody>\n",
       "    <tr>\n",
       "      <th>Ionclotide</th>\n",
       "      <td>267961.0</td>\n",
       "    </tr>\n",
       "    <tr>\n",
       "      <th>Tetratanyl</th>\n",
       "      <td>246754.0</td>\n",
       "    </tr>\n",
       "    <tr>\n",
       "      <th>Sumanazole</th>\n",
       "      <td>215239.0</td>\n",
       "    </tr>\n",
       "    <tr>\n",
       "      <th>Formolovir Amanferon</th>\n",
       "      <td>193393.0</td>\n",
       "    </tr>\n",
       "    <tr>\n",
       "      <th>Symdocet</th>\n",
       "      <td>193282.0</td>\n",
       "    </tr>\n",
       "    <tr>\n",
       "      <th>Hepavice</th>\n",
       "      <td>177452.0</td>\n",
       "    </tr>\n",
       "    <tr>\n",
       "      <th>Amavirase</th>\n",
       "      <td>177196.0</td>\n",
       "    </tr>\n",
       "    <tr>\n",
       "      <th>Betanem</th>\n",
       "      <td>175243.0</td>\n",
       "    </tr>\n",
       "    <tr>\n",
       "      <th>Dantocept Ferurenone</th>\n",
       "      <td>173490.0</td>\n",
       "    </tr>\n",
       "    <tr>\n",
       "      <th>Zyvance</th>\n",
       "      <td>172260.0</td>\n",
       "    </tr>\n",
       "  </tbody>\n",
       "</table>\n",
       "</div>"
      ],
      "text/plain": [
       "                      Quantity\n",
       "Product Name                  \n",
       "Ionclotide            267961.0\n",
       "Tetratanyl            246754.0\n",
       "Sumanazole            215239.0\n",
       "Formolovir Amanferon  193393.0\n",
       "Symdocet              193282.0\n",
       "Hepavice              177452.0\n",
       "Amavirase             177196.0\n",
       "Betanem               175243.0\n",
       "Dantocept Ferurenone  173490.0\n",
       "Zyvance               172260.0"
      ]
     },
     "execution_count": 24,
     "metadata": {},
     "output_type": "execute_result"
    }
   ],
   "source": [
    "product_quant.head(10)"
   ]
  },
  {
   "cell_type": "markdown",
   "id": "5e80078d",
   "metadata": {},
   "source": [
    "Ionciotide was the product with the most quantity distributed"
   ]
  },
  {
   "cell_type": "code",
   "execution_count": 25,
   "id": "19928f8a",
   "metadata": {},
   "outputs": [
    {
     "data": {
      "text/plain": [
       "Pharmacy    129971\n",
       "Hospital    124111\n",
       "Name: Channel, dtype: int64"
      ]
     },
     "execution_count": 25,
     "metadata": {},
     "output_type": "execute_result"
    }
   ],
   "source": [
    "(df['Channel'].value_counts())"
   ]
  },
  {
   "cell_type": "code",
   "execution_count": 26,
   "id": "dd11471b",
   "metadata": {
    "scrolled": true
   },
   "outputs": [
    {
     "data": {
      "image/png": "[encoded data removed]",
      "text/plain": [
       "<Figure size 720x360 with 1 Axes>"
      ]
     },
     "metadata": {},
     "output_type": "display_data"
    }
   ],
   "source": [
    "plt.style.use('seaborn')\n",
    "sns.set(style=\"darkgrid\")\n",
    "plt.figure(figsize = (10, 5))\n",
    "plt.title('Top Distribution Channel', fontsize = 15)\n",
    "df['Channel'].value_counts()[:20].plot(kind='bar', color='red')\n",
    "plt.show()"
   ]
  },
  {
   "cell_type": "code",
   "execution_count": 27,
   "id": "4b554970",
   "metadata": {},
   "outputs": [],
   "source": [
    "#channerl of distribution by sales\n",
    "chan_sales = df.groupby('Channel')[['Sales']].sum().sort_values(by=['Sales'],ascending=False)\n"
   ]
  },
  {
   "cell_type": "code",
   "execution_count": 28,
   "id": "7860b432",
   "metadata": {},
   "outputs": [
    {
     "data": {
      "text/html": [
       "<div>\n",
       "<style scoped>\n",
       "    .dataframe tbody tr th:only-of-type {\n",
       "        vertical-align: middle;\n",
       "    }\n",
       "\n",
       "    .dataframe tbody tr th {\n",
       "        vertical-align: top;\n",
       "    }\n",
       "\n",
       "    .dataframe thead th {\n",
       "        text-align: right;\n",
       "    }\n",
       "</style>\n",
       "<table border=\"1\" class=\"dataframe\">\n",
       "  <thead>\n",
       "    <tr style=\"text-align: right;\">\n",
       "      <th></th>\n",
       "      <th>Sales</th>\n",
       "    </tr>\n",
       "    <tr>\n",
       "      <th>Channel</th>\n",
       "      <th></th>\n",
       "    </tr>\n",
       "  </thead>\n",
       "  <tbody>\n",
       "    <tr>\n",
       "      <th>Pharmacy</th>\n",
       "      <td>6.218312e+09</td>\n",
       "    </tr>\n",
       "    <tr>\n",
       "      <th>Hospital</th>\n",
       "      <td>5.580676e+09</td>\n",
       "    </tr>\n",
       "  </tbody>\n",
       "</table>\n",
       "</div>"
      ],
      "text/plain": [
       "                 Sales\n",
       "Channel               \n",
       "Pharmacy  6.218312e+09\n",
       "Hospital  5.580676e+09"
      ]
     },
     "execution_count": 28,
     "metadata": {},
     "output_type": "execute_result"
    }
   ],
   "source": [
    "chan_sales"
   ]
  },
  {
   "cell_type": "markdown",
   "id": "c0c73f16",
   "metadata": {},
   "source": [
    "From the above table we can see that Pharmacy was the channnel where the most sales were made with a total of 6.2 Billion"
   ]
  },
  {
   "cell_type": "code",
   "execution_count": 29,
   "id": "a16aff8b",
   "metadata": {},
   "outputs": [],
   "source": [
    "year_sales = df.groupby('Year')[['Sales']].sum().sort_values(by=['Sales'],ascending=True)\n"
   ]
  },
  {
   "cell_type": "code",
   "execution_count": 30,
   "id": "c6e923cc",
   "metadata": {},
   "outputs": [
    {
     "data": {
      "text/html": [
       "<div>\n",
       "<style scoped>\n",
       "    .dataframe tbody tr th:only-of-type {\n",
       "        vertical-align: middle;\n",
       "    }\n",
       "\n",
       "    .dataframe tbody tr th {\n",
       "        vertical-align: top;\n",
       "    }\n",
       "\n",
       "    .dataframe thead th {\n",
       "        text-align: right;\n",
       "    }\n",
       "</style>\n",
       "<table border=\"1\" class=\"dataframe\">\n",
       "  <thead>\n",
       "    <tr style=\"text-align: right;\">\n",
       "      <th></th>\n",
       "      <th>Sales</th>\n",
       "    </tr>\n",
       "    <tr>\n",
       "      <th>Year</th>\n",
       "      <th></th>\n",
       "    </tr>\n",
       "  </thead>\n",
       "  <tbody>\n",
       "    <tr>\n",
       "      <th>2020</th>\n",
       "      <td>2.659672e+09</td>\n",
       "    </tr>\n",
       "    <tr>\n",
       "      <th>2017</th>\n",
       "      <td>2.701481e+09</td>\n",
       "    </tr>\n",
       "    <tr>\n",
       "      <th>2019</th>\n",
       "      <td>2.930937e+09</td>\n",
       "    </tr>\n",
       "    <tr>\n",
       "      <th>2018</th>\n",
       "      <td>3.506897e+09</td>\n",
       "    </tr>\n",
       "  </tbody>\n",
       "</table>\n",
       "</div>"
      ],
      "text/plain": [
       "             Sales\n",
       "Year              \n",
       "2020  2.659672e+09\n",
       "2017  2.701481e+09\n",
       "2019  2.930937e+09\n",
       "2018  3.506897e+09"
      ]
     },
     "execution_count": 30,
     "metadata": {},
     "output_type": "execute_result"
    }
   ],
   "source": [
    "year_sales "
   ]
  },
  {
   "cell_type": "code",
   "execution_count": 31,
   "id": "9b816912",
   "metadata": {},
   "outputs": [
    {
     "data": {
      "text/plain": [
       "Germany    213598\n",
       "Poland      40484\n",
       "Name: Country, dtype: int64"
      ]
     },
     "execution_count": 31,
     "metadata": {},
     "output_type": "execute_result"
    }
   ],
   "source": [
    "(df['Country'].value_counts())"
   ]
  },
  {
   "cell_type": "code",
   "execution_count": 32,
   "id": "7a63d800",
   "metadata": {},
   "outputs": [
    {
     "data": {
      "text/html": [
       "<div>\n",
       "<style scoped>\n",
       "    .dataframe tbody tr th:only-of-type {\n",
       "        vertical-align: middle;\n",
       "    }\n",
       "\n",
       "    .dataframe tbody tr th {\n",
       "        vertical-align: top;\n",
       "    }\n",
       "\n",
       "    .dataframe thead th {\n",
       "        text-align: right;\n",
       "    }\n",
       "</style>\n",
       "<table border=\"1\" class=\"dataframe\">\n",
       "  <thead>\n",
       "    <tr style=\"text-align: right;\">\n",
       "      <th></th>\n",
       "      <th>Sales</th>\n",
       "    </tr>\n",
       "    <tr>\n",
       "      <th>Sub-channel</th>\n",
       "      <th></th>\n",
       "    </tr>\n",
       "  </thead>\n",
       "  <tbody>\n",
       "    <tr>\n",
       "      <th>Retail</th>\n",
       "      <td>3.343097e+09</td>\n",
       "    </tr>\n",
       "    <tr>\n",
       "      <th>Government</th>\n",
       "      <td>3.058240e+09</td>\n",
       "    </tr>\n",
       "    <tr>\n",
       "      <th>Institution</th>\n",
       "      <td>2.875215e+09</td>\n",
       "    </tr>\n",
       "    <tr>\n",
       "      <th>Private</th>\n",
       "      <td>2.522435e+09</td>\n",
       "    </tr>\n",
       "  </tbody>\n",
       "</table>\n",
       "</div>"
      ],
      "text/plain": [
       "                    Sales\n",
       "Sub-channel              \n",
       "Retail       3.343097e+09\n",
       "Government   3.058240e+09\n",
       "Institution  2.875215e+09\n",
       "Private      2.522435e+09"
      ]
     },
     "execution_count": 32,
     "metadata": {},
     "output_type": "execute_result"
    }
   ],
   "source": [
    "df.groupby('Sub-channel')[['Sales']].sum().sort_values(by=['Sales'],ascending=False)"
   ]
  },
  {
   "cell_type": "code",
   "execution_count": 33,
   "id": "88cc4edf",
   "metadata": {},
   "outputs": [
    {
     "data": {
      "text/plain": [
       "Friedberg    796\n",
       "Neustadt     760\n",
       "Bergheim     440\n",
       "Ettlingen    437\n",
       "Kehl         436\n",
       "Merseburg    436\n",
       "Oldenburg    434\n",
       "Zeitz        431\n",
       "Hamburg      430\n",
       "Apolda       429\n",
       "Name: City, dtype: int64"
      ]
     },
     "execution_count": 33,
     "metadata": {},
     "output_type": "execute_result"
    }
   ],
   "source": [
    "(df['City'].value_counts()).head(10)"
   ]
  },
  {
   "cell_type": "code",
   "execution_count": 34,
   "id": "604a68c8",
   "metadata": {},
   "outputs": [
    {
     "data": {
      "text/html": [
       "<div>\n",
       "<style scoped>\n",
       "    .dataframe tbody tr th:only-of-type {\n",
       "        vertical-align: middle;\n",
       "    }\n",
       "\n",
       "    .dataframe tbody tr th {\n",
       "        vertical-align: top;\n",
       "    }\n",
       "\n",
       "    .dataframe thead th {\n",
       "        text-align: right;\n",
       "    }\n",
       "</style>\n",
       "<table border=\"1\" class=\"dataframe\">\n",
       "  <thead>\n",
       "    <tr style=\"text-align: right;\">\n",
       "      <th></th>\n",
       "      <th>Sales</th>\n",
       "    </tr>\n",
       "    <tr>\n",
       "      <th>City</th>\n",
       "      <th></th>\n",
       "    </tr>\n",
       "  </thead>\n",
       "  <tbody>\n",
       "    <tr>\n",
       "      <th>Butzbach</th>\n",
       "      <td>9.356178e+07</td>\n",
       "    </tr>\n",
       "    <tr>\n",
       "      <th>Baesweiler</th>\n",
       "      <td>6.489050e+07</td>\n",
       "    </tr>\n",
       "    <tr>\n",
       "      <th>Cuxhaven</th>\n",
       "      <td>5.600668e+07</td>\n",
       "    </tr>\n",
       "    <tr>\n",
       "      <th>Friedberg</th>\n",
       "      <td>5.218363e+07</td>\n",
       "    </tr>\n",
       "    <tr>\n",
       "      <th>Altenburg</th>\n",
       "      <td>5.088532e+07</td>\n",
       "    </tr>\n",
       "    <tr>\n",
       "      <th>Emsdetten</th>\n",
       "      <td>4.593901e+07</td>\n",
       "    </tr>\n",
       "    <tr>\n",
       "      <th>Bottrop</th>\n",
       "      <td>4.445462e+07</td>\n",
       "    </tr>\n",
       "    <tr>\n",
       "      <th>Freising</th>\n",
       "      <td>4.377938e+07</td>\n",
       "    </tr>\n",
       "    <tr>\n",
       "      <th>Trier</th>\n",
       "      <td>4.349563e+07</td>\n",
       "    </tr>\n",
       "    <tr>\n",
       "      <th>Castrop-Rauxel</th>\n",
       "      <td>4.206666e+07</td>\n",
       "    </tr>\n",
       "  </tbody>\n",
       "</table>\n",
       "</div>"
      ],
      "text/plain": [
       "                       Sales\n",
       "City                        \n",
       "Butzbach        9.356178e+07\n",
       "Baesweiler      6.489050e+07\n",
       "Cuxhaven        5.600668e+07\n",
       "Friedberg       5.218363e+07\n",
       "Altenburg       5.088532e+07\n",
       "Emsdetten       4.593901e+07\n",
       "Bottrop         4.445462e+07\n",
       "Freising        4.377938e+07\n",
       "Trier           4.349563e+07\n",
       "Castrop-Rauxel  4.206666e+07"
      ]
     },
     "execution_count": 34,
     "metadata": {},
     "output_type": "execute_result"
    }
   ],
   "source": [
    "df.groupby('City')[['Sales']].sum().sort_values(by=['Sales'],ascending=False)[:10]"
   ]
  },
  {
   "cell_type": "code",
   "execution_count": 35,
   "id": "11daa32d",
   "metadata": {},
   "outputs": [
    {
     "data": {
      "text/plain": [
       "Retail         68351\n",
       "Government     65605\n",
       "Institution    61620\n",
       "Private        58506\n",
       "Name: Sub-channel, dtype: int64"
      ]
     },
     "execution_count": 35,
     "metadata": {},
     "output_type": "execute_result"
    }
   ],
   "source": [
    "(df['Sub-channel'].value_counts())"
   ]
  },
  {
   "cell_type": "code",
   "execution_count": 36,
   "id": "8f4a8526",
   "metadata": {},
   "outputs": [
    {
     "data": {
      "text/plain": [
       "Antiseptics         52037\n",
       "Mood Stabilizers    46415\n",
       "Analgesics          44751\n",
       "Antibiotics         36979\n",
       "Antipiretics        36955\n",
       "Antimalarial        36945\n",
       "Name: Product Class, dtype: int64"
      ]
     },
     "execution_count": 36,
     "metadata": {},
     "output_type": "execute_result"
    }
   ],
   "source": [
    "(df['Product Class'].value_counts())"
   ]
  },
  {
   "cell_type": "code",
   "execution_count": 37,
   "id": "12f3258c",
   "metadata": {},
   "outputs": [
    {
     "data": {
      "text/html": [
       "<div>\n",
       "<style scoped>\n",
       "    .dataframe tbody tr th:only-of-type {\n",
       "        vertical-align: middle;\n",
       "    }\n",
       "\n",
       "    .dataframe tbody tr th {\n",
       "        vertical-align: top;\n",
       "    }\n",
       "\n",
       "    .dataframe thead th {\n",
       "        text-align: right;\n",
       "    }\n",
       "</style>\n",
       "<table border=\"1\" class=\"dataframe\">\n",
       "  <thead>\n",
       "    <tr style=\"text-align: right;\">\n",
       "      <th></th>\n",
       "      <th>Quantity</th>\n",
       "    </tr>\n",
       "    <tr>\n",
       "      <th>Product Class</th>\n",
       "      <th></th>\n",
       "    </tr>\n",
       "  </thead>\n",
       "  <tbody>\n",
       "    <tr>\n",
       "      <th>Analgesics</th>\n",
       "      <td>5.553144e+06</td>\n",
       "    </tr>\n",
       "    <tr>\n",
       "      <th>Antiseptics</th>\n",
       "      <td>5.499913e+06</td>\n",
       "    </tr>\n",
       "    <tr>\n",
       "      <th>Mood Stabilizers</th>\n",
       "      <td>5.169781e+06</td>\n",
       "    </tr>\n",
       "    <tr>\n",
       "      <th>Antimalarial</th>\n",
       "      <td>4.249075e+06</td>\n",
       "    </tr>\n",
       "    <tr>\n",
       "      <th>Antibiotics</th>\n",
       "      <td>4.154322e+06</td>\n",
       "    </tr>\n",
       "    <tr>\n",
       "      <th>Antipiretics</th>\n",
       "      <td>4.052544e+06</td>\n",
       "    </tr>\n",
       "  </tbody>\n",
       "</table>\n",
       "</div>"
      ],
      "text/plain": [
       "                      Quantity\n",
       "Product Class                 \n",
       "Analgesics        5.553144e+06\n",
       "Antiseptics       5.499913e+06\n",
       "Mood Stabilizers  5.169781e+06\n",
       "Antimalarial      4.249075e+06\n",
       "Antibiotics       4.154322e+06\n",
       "Antipiretics      4.052544e+06"
      ]
     },
     "execution_count": 37,
     "metadata": {},
     "output_type": "execute_result"
    }
   ],
   "source": [
    "df.groupby('Product Class')[['Quantity']].sum().sort_values(by=['Quantity'],ascending=False)"
   ]
  },
  {
   "cell_type": "code",
   "execution_count": 38,
   "id": "57cf9c60",
   "metadata": {},
   "outputs": [
    {
     "data": {
      "text/html": [
       "<div>\n",
       "<style scoped>\n",
       "    .dataframe tbody tr th:only-of-type {\n",
       "        vertical-align: middle;\n",
       "    }\n",
       "\n",
       "    .dataframe tbody tr th {\n",
       "        vertical-align: top;\n",
       "    }\n",
       "\n",
       "    .dataframe thead th {\n",
       "        text-align: right;\n",
       "    }\n",
       "</style>\n",
       "<table border=\"1\" class=\"dataframe\">\n",
       "  <thead>\n",
       "    <tr style=\"text-align: right;\">\n",
       "      <th></th>\n",
       "      <th>Sales</th>\n",
       "    </tr>\n",
       "    <tr>\n",
       "      <th>Sub-channel</th>\n",
       "      <th></th>\n",
       "    </tr>\n",
       "  </thead>\n",
       "  <tbody>\n",
       "    <tr>\n",
       "      <th>Retail</th>\n",
       "      <td>3.343097e+09</td>\n",
       "    </tr>\n",
       "    <tr>\n",
       "      <th>Government</th>\n",
       "      <td>3.058240e+09</td>\n",
       "    </tr>\n",
       "    <tr>\n",
       "      <th>Institution</th>\n",
       "      <td>2.875215e+09</td>\n",
       "    </tr>\n",
       "    <tr>\n",
       "      <th>Private</th>\n",
       "      <td>2.522435e+09</td>\n",
       "    </tr>\n",
       "  </tbody>\n",
       "</table>\n",
       "</div>"
      ],
      "text/plain": [
       "                    Sales\n",
       "Sub-channel              \n",
       "Retail       3.343097e+09\n",
       "Government   3.058240e+09\n",
       "Institution  2.875215e+09\n",
       "Private      2.522435e+09"
      ]
     },
     "execution_count": 38,
     "metadata": {},
     "output_type": "execute_result"
    }
   ],
   "source": [
    "df.groupby('Sub-channel')[['Sales']].sum().sort_values(by=['Sales'],ascending=False)"
   ]
  },
  {
   "cell_type": "code",
   "execution_count": 39,
   "id": "319b4ee2",
   "metadata": {},
   "outputs": [
    {
     "data": {
      "text/html": [
       "<div>\n",
       "<style scoped>\n",
       "    .dataframe tbody tr th:only-of-type {\n",
       "        vertical-align: middle;\n",
       "    }\n",
       "\n",
       "    .dataframe tbody tr th {\n",
       "        vertical-align: top;\n",
       "    }\n",
       "\n",
       "    .dataframe thead th {\n",
       "        text-align: right;\n",
       "    }\n",
       "</style>\n",
       "<table border=\"1\" class=\"dataframe\">\n",
       "  <thead>\n",
       "    <tr style=\"text-align: right;\">\n",
       "      <th></th>\n",
       "      <th>Sales</th>\n",
       "    </tr>\n",
       "    <tr>\n",
       "      <th>Month</th>\n",
       "      <th></th>\n",
       "    </tr>\n",
       "  </thead>\n",
       "  <tbody>\n",
       "    <tr>\n",
       "      <th>August</th>\n",
       "      <td>1.186627e+09</td>\n",
       "    </tr>\n",
       "    <tr>\n",
       "      <th>November</th>\n",
       "      <td>1.108803e+09</td>\n",
       "    </tr>\n",
       "    <tr>\n",
       "      <th>March</th>\n",
       "      <td>1.108802e+09</td>\n",
       "    </tr>\n",
       "    <tr>\n",
       "      <th>June</th>\n",
       "      <td>1.064033e+09</td>\n",
       "    </tr>\n",
       "    <tr>\n",
       "      <th>July</th>\n",
       "      <td>1.042537e+09</td>\n",
       "    </tr>\n",
       "    <tr>\n",
       "      <th>September</th>\n",
       "      <td>1.029988e+09</td>\n",
       "    </tr>\n",
       "    <tr>\n",
       "      <th>December</th>\n",
       "      <td>9.750071e+08</td>\n",
       "    </tr>\n",
       "    <tr>\n",
       "      <th>February</th>\n",
       "      <td>9.721298e+08</td>\n",
       "    </tr>\n",
       "    <tr>\n",
       "      <th>October</th>\n",
       "      <td>9.716484e+08</td>\n",
       "    </tr>\n",
       "    <tr>\n",
       "      <th>May</th>\n",
       "      <td>8.651872e+08</td>\n",
       "    </tr>\n",
       "    <tr>\n",
       "      <th>April</th>\n",
       "      <td>8.000346e+08</td>\n",
       "    </tr>\n",
       "    <tr>\n",
       "      <th>January</th>\n",
       "      <td>6.741911e+08</td>\n",
       "    </tr>\n",
       "  </tbody>\n",
       "</table>\n",
       "</div>"
      ],
      "text/plain": [
       "                  Sales\n",
       "Month                  \n",
       "August     1.186627e+09\n",
       "November   1.108803e+09\n",
       "March      1.108802e+09\n",
       "June       1.064033e+09\n",
       "July       1.042537e+09\n",
       "September  1.029988e+09\n",
       "December   9.750071e+08\n",
       "February   9.721298e+08\n",
       "October    9.716484e+08\n",
       "May        8.651872e+08\n",
       "April      8.000346e+08\n",
       "January    6.741911e+08"
      ]
     },
     "execution_count": 39,
     "metadata": {},
     "output_type": "execute_result"
    }
   ],
   "source": [
    "df.groupby('Month')[['Sales']].sum().sort_values(by=['Sales'],ascending=False)"
   ]
  },
  {
   "cell_type": "code",
   "execution_count": 40,
   "id": "f83f2653",
   "metadata": {},
   "outputs": [
    {
     "data": {
      "text/html": [
       "<div>\n",
       "<style scoped>\n",
       "    .dataframe tbody tr th:only-of-type {\n",
       "        vertical-align: middle;\n",
       "    }\n",
       "\n",
       "    .dataframe tbody tr th {\n",
       "        vertical-align: top;\n",
       "    }\n",
       "\n",
       "    .dataframe thead th {\n",
       "        text-align: right;\n",
       "    }\n",
       "</style>\n",
       "<table border=\"1\" class=\"dataframe\">\n",
       "  <thead>\n",
       "    <tr style=\"text-align: right;\">\n",
       "      <th></th>\n",
       "      <th>Sales</th>\n",
       "    </tr>\n",
       "    <tr>\n",
       "      <th>Sales Team</th>\n",
       "      <th></th>\n",
       "    </tr>\n",
       "  </thead>\n",
       "  <tbody>\n",
       "    <tr>\n",
       "      <th>Delta</th>\n",
       "      <td>3.635341e+09</td>\n",
       "    </tr>\n",
       "    <tr>\n",
       "      <th>Charlie</th>\n",
       "      <td>2.824970e+09</td>\n",
       "    </tr>\n",
       "    <tr>\n",
       "      <th>Bravo</th>\n",
       "      <td>2.757702e+09</td>\n",
       "    </tr>\n",
       "    <tr>\n",
       "      <th>Alfa</th>\n",
       "      <td>2.580974e+09</td>\n",
       "    </tr>\n",
       "  </tbody>\n",
       "</table>\n",
       "</div>"
      ],
      "text/plain": [
       "                   Sales\n",
       "Sales Team              \n",
       "Delta       3.635341e+09\n",
       "Charlie     2.824970e+09\n",
       "Bravo       2.757702e+09\n",
       "Alfa        2.580974e+09"
      ]
     },
     "execution_count": 40,
     "metadata": {},
     "output_type": "execute_result"
    }
   ],
   "source": [
    "df.groupby('Sales Team')[['Sales']].sum().sort_values(by=['Sales'],ascending=False)"
   ]
  },
  {
   "cell_type": "code",
   "execution_count": 41,
   "id": "6241610c",
   "metadata": {},
   "outputs": [
    {
     "data": {
      "image/png": "[encoded data removed]",
      "text/plain": [
       "<Figure size 576x396 with 1 Axes>"
      ]
     },
     "metadata": {},
     "output_type": "display_data"
    }
   ],
   "source": [
    "plt.plot(df.groupby('Sales Team')[['Sales']].sum().sort_values(by=['Sales'],ascending=False))\n",
    "plt.show()"
   ]
  },
  {
   "cell_type": "code",
   "execution_count": null,
   "id": "401bc8cc",
   "metadata": {},
   "outputs": [],
   "source": [
    "(df.groupby('Sales Team')[['Quantity']].sum().sort_values(by=['Quantity'],ascending=False))\n"
   ]
  },
  {
   "cell_type": "code",
   "execution_count": null,
   "id": "d5a03135",
   "metadata": {},
   "outputs": [],
   "source": [
    "(df['Manager'].value_counts())"
   ]
  },
  {
   "cell_type": "code",
   "execution_count": null,
   "id": "65b5991f",
   "metadata": {},
   "outputs": [],
   "source": [
    "df.groupby(['Manager', 'Country'])[['Sales']].sum().sort_values(by=['Sales'],ascending=False)"
   ]
  },
  {
   "cell_type": "code",
   "execution_count": null,
   "id": "4cb14b8d",
   "metadata": {},
   "outputs": [],
   "source": []
  },
  {
   "cell_type": "code",
   "execution_count": null,
   "id": "9ce1b4a7",
   "metadata": {},
   "outputs": [],
   "source": []
  },
  {
   "cell_type": "code",
   "execution_count": null,
   "id": "000bacc2",
   "metadata": {},
   "outputs": [],
   "source": [
    "#dist_sales = df.groupby('Distributor')[['Sales']].count().sort_values(by= ['Sales'], ascending=False)\n",
    "#dist_sales.sort_values(ascending=True)"
   ]
  },
  {
   "cell_type": "code",
   "execution_count": null,
   "id": "83219669",
   "metadata": {},
   "outputs": [],
   "source": []
  }
 ],
 "metadata": {
  "kernelspec": {
   "display_name": "Python 3 (ipykernel)",
   "language": "python",
   "name": "python3"
  },
  "language_info": {
   "codemirror_mode": {
    "name": "ipython",
    "version": 3
   },
   "file_extension": ".py",
   "mimetype": "text/x-python",
   "name": "python",
   "nbconvert_exporter": "python",
   "pygments_lexer": "ipython3",
   "version": "3.9.12"
  }
 },
 "nbformat": 4,
 "nbformat_minor": 5
}
